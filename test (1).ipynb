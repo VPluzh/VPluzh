{
 "cells": [
  {
   "cell_type": "code",
   "execution_count": null,
   "id": "9d151633",
   "metadata": {},
   "outputs": [],
   "source": [
    "import pandas as pd\n",
    "import numpy as np\n",
    "import requests\n",
    "import matplotlib.pyplot as plt\n",
    "\n",
    "\n",
    "response = requests.get('https://worldtable.info/gosudarstvo/tablica-rozhdaemosti-po-godam-rossija.html')\n",
    "table = pd.read_html(response.text, encoding='utf-8', header = 0)\n",
    "\n",
    "\n",
    "df = pd.DataFrame(np.concatenate(table), columns = ['Year', 'Number'])\n",
    "\n",
    "df=df.astype(float) \n",
    "\n",
    "df.plot(x = \"Year\", y = \"Number\")\n",
    "plt.show()"
   ]
  },
  {
   "cell_type": "code",
   "execution_count": null,
   "id": "ade59508",
   "metadata": {},
   "outputs": [],
   "source": []
  }
 ],
 "metadata": {
  "kernelspec": {
   "display_name": "Python 3",
   "language": "python",
   "name": "python3"
  },
  "language_info": {
   "codemirror_mode": {
    "name": "ipython",
    "version": 3
   },
   "file_extension": ".py",
   "mimetype": "text/x-python",
   "name": "python",
   "nbconvert_exporter": "python",
   "pygments_lexer": "ipython3",
   "version": "3.8.8"
  }
 },
 "nbformat": 4,
 "nbformat_minor": 5
}
